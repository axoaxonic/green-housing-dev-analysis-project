{
 "cells": [
  {
   "cell_type": "code",
   "execution_count": null,
   "metadata": {},
   "outputs": [],
   "source": [
    "import pandas as pd\n",
    "import statsmodels.api as sm\n",
    "import seaborn as sns\n",
    "import matplotlib.pyplot as plt \n",
    "import folium\n",
    "from sklearn.preprocessing import OneHotEncoder"
   ]
  },
  {
   "cell_type": "code",
   "execution_count": null,
   "metadata": {},
   "outputs": [],
   "source": [
    "# this cell for adding new imports without running them all \n"
   ]
  },
  {
   "cell_type": "code",
   "execution_count": null,
   "metadata": {},
   "outputs": [],
   "source": [
    "kchousing = pd.read_csv('../data/kc_house_data.csv')\n",
    "kchousing.info()"
   ]
  },
  {
   "cell_type": "code",
   "execution_count": null,
   "metadata": {
    "scrolled": true
   },
   "outputs": [],
   "source": [
    "# quick test OLS, problematic don't use\n",
    "\n",
    "y = kchousing['price']\n",
    "# X = kchousing.drop(['price', 'date', 'sqft_basement', 'grade',\n",
    "#                      'condition','view', 'waterfront', 'yr_renovated'], axis=1) # dropping non-numerical columns\n",
    "Z = zipcodes_ohe # this is only to see how long it takes to run OLS on something with 69 columns\n",
    "y = y.dropna()\n",
    "# X = X.dropna()\n",
    "\n",
    "# len(y), len(X)\n",
    "ols_kch = sm.OLS(y, sm.add_constant(Z)).fit()\n",
    "ols_kch.summary()"
   ]
  },
  {
   "cell_type": "code",
   "execution_count": null,
   "metadata": {},
   "outputs": [],
   "source": [
    "# source: https://flatironschool.com/blog/best-tech-companies-seattle/\n",
    "# finding tech company locations for optimal housing proximity\n",
    "\n",
    "techcompany_address = ['1 Microsoft Way, Redmond, WA 98052', '601 North 34th St, Seattle, WA 98103',\n",
    "                      '1111 Expedia Group Way W, Seattle, WA 98119', '605 5th Ave S Suite 400, Seattle, WA 98104',\n",
    "                      '333 Elliott Ave W #500, Seattle, WA 98119', '255 S King St #1800, Seattle, WA 98104',\n",
    "                      '410 Terry Ave N, Seattle, WA 98109', '906 Alaskan Way Suite 700, Seattle, WA 98104', '1621 N 34th St, Seattle, WA 98103',\n",
    "                      '901 5th Ave #1000, Seattle, WA 98164', '2601 Elliott Ave #200, Seattle, WA 98121', '1099 Stewart St #600, Seattle, WA 98101',\n",
    "                      '2200 1st Ave S, Seattle, WA 98134', '601 108th Ave NE, Suite 1000, Bellevue, WA 98004', '801 5th Ave, Seattle, WA 98104',\n",
    "                       '506 2nd Ave UNIT 1900, Seattle, WA 98104', '1525 4th Ave #800, Seattle, WA 98101', '1932 1st Ave #300, Seattle, WA 98101',\n",
    "                      '2211 Elliott Ave #400, Seattle, WA 98121', '1200, 400 Fairview Ave N, Seattle, WA 98109', '316 2nd Ave S Suite 200 Seattle, WA 98104',\n",
    "                      '719 2nd Ave #800, Seattle, WA 98104', '2200 1st Ave S, Seattle, WA 98134', '95 S Jackson St #100, Seattle, WA 98104',\n",
    "                      '2101 4th Ave #950, Seattle, WA 98121', '300 Elliott Ave W #500, Seattle, WA 98119', '2033 6th Ave Suite #1100, Seattle, WA 98121',\n",
    "                      '701 5th Ave 26th floor, Seattle, WA 98104', '200 W Thomas St #400, Seattle, WA 98119', '901 5th Ave #1200, Seattle, WA 98164']\n",
    "\n",
    "techcompany_name = ['Microsoft', 'Google', 'Expedia', 'Getty', 'Outreach', 'Avalara', 'Amazon', 'Big Fish Games',\n",
    "                   'Tableau', 'Cray', 'Zulily', 'Redfin', 'Porch', 'SAP Concur', 'F5', 'Xealth', 'Pulumi', 'Apptentive',\n",
    "                   'Highspot', 'Impinj', 'Upbound', 'Skytap', 'Glowforge', 'Auction Edge', 'GeoEngineers', 'Twillio Zipwhip',\n",
    "                   'Whitepages', 'Amperity', 'SkyKick', 'PitchBook']\n",
    "\n",
    "# len(techcompany_address) == len(techcompany_name)  \n",
    "\n",
    "techcompany_coord = {47.6395481:-122.1316979, 47.6491022:-122.3512428, 47.6278727:-122.3771439, 47.5968424:-122.3288311,\n",
    "                    47.6207149:-122.3623911, 47.5978827:-122.3309175, 47.6149968:-122.3382836, 47.6035842:-122.3375176,\n",
    "                    47.6478044:-122.3382225, 47.605816:-122.3319745, 47.6142513:-122.3522433, 47.616631:-122.332592,\n",
    "                    47.5835923:-122.3336612, 47.6161371:-122.1968104, 47.6051851:-122.331118, 47.6019789:-122.3317164,\n",
    "                    47.6107471:-122.3397581, 47.6110571:-122.3422495, 47.6114079:-122.3478381, 47.6227313:-122.33609, 47.5995348:-122.3313931,\n",
    "                    47.5980919:-122.3309701, 47.5838846:-122.3328815, 47.5990386:-122.3349373, 47.6141707:-122.3424675,\n",
    "                    47.6218759:-122.3615888, 47.614592:-122.3391944, 47.6046363:-122.3307528, 47.6210721:-122.3599327, 47.6056348:-122.3321834}\n",
    "\n",
    "tc_coord_list = list(techcompany_coord.items())\n",
    "tc_coord_list\n"
   ]
  },
  {
   "cell_type": "code",
   "execution_count": null,
   "metadata": {},
   "outputs": [],
   "source": [
    "techcompany_zip = set([i[-5:] for i in techcompany_address])\n",
    "techcompany_zip"
   ]
  },
  {
   "cell_type": "code",
   "execution_count": null,
   "metadata": {
    "scrolled": false
   },
   "outputs": [],
   "source": [
    "kchousing['grade_ordinal'] = [int(i[0:2].strip()) for i in kchousing['grade']]"
   ]
  },
  {
   "cell_type": "code",
   "execution_count": null,
   "metadata": {
    "scrolled": true
   },
   "outputs": [],
   "source": [
    "# attempt to compare tech zips with housing zips; didn't work...\n",
    "\n",
    "# sns.set(rc={'axes.facecolor':'white', 'figure.facecolor':'lightgreen'} )\n",
    "# sns.scatterplot(x=list(techcompany_zip), y=kchousing['zipcode'])"
   ]
  },
  {
   "cell_type": "code",
   "execution_count": null,
   "metadata": {
    "scrolled": true
   },
   "outputs": [],
   "source": [
    "# kchousing['bedrooms'].loc[lambda x: x==33].index # locating outlier bedroom row\n",
    "kchousing['zipcode'].loc[lambda x: x==98102].index"
   ]
  },
  {
   "cell_type": "code",
   "execution_count": null,
   "metadata": {},
   "outputs": [],
   "source": [
    "# this cell is all the history of plotting data, not to be run on it's own \n",
    "\n",
    "# sns.histplot(kchousing['bathrooms'])\n",
    "# sns.set(rc={'axes.facecolor':'white', 'figure.facecolor':'lightgreen'})\n",
    "\n",
    "# sns.histplot(kchousing['zipcode'])\n",
    "# sns.set(rc={'axes.facecolor':'white', 'figure.facecolor':'lightgreen'})\n",
    "\n",
    "# sns.histplot(data=kchousing['grade_ordinal'], binwidth=.2 )\n",
    "# kchousing['grade_ordinal'].value_counts()\n",
    "# sns.set(rc={'axes.facecolor':'white', 'figure.facecolor':'lightgreen'} )\n",
    "\n",
    "# sns.swarmplot(x=techcompany_zip, y=kchousing['zipcode'])\n",
    "# sns.set(rc={'axes.facecolor':'white', 'figure.facecolor':'lightgreen'} )\n",
    "# sns.swarmplot(x=list(techcompany_zip), y=kchousing['zipcode'])\n",
    "# sns.set(rc={'axes.facecolor':'white', 'figure.facecolor':'lightgreen'} )\n",
    "# sns.scatter(x=list(techcompany_zip), y=kchousing['zipcode'])\n",
    "# sns.set(rc={'axes.facecolor':'white', 'figure.facecolor':'lightgreen'} )\n",
    "# sns.scatterplot(x=list(techcompany_zip), y=kchousing['zipcode'])"
   ]
  },
  {
   "cell_type": "code",
   "execution_count": null,
   "metadata": {},
   "outputs": [],
   "source": [
    "def coordlister(index_num):\n",
    "    ''' quick function to get the individual coordinates of tech companies for Folium markers'''\n",
    "    return list(tc_coord_list[index_num])\n",
    "\n",
    "# coordlister(20) # test"
   ]
  },
  {
   "cell_type": "code",
   "execution_count": null,
   "metadata": {
    "scrolled": true
   },
   "outputs": [],
   "source": [
    "techmap = folium.Map(location=[47.605, -122.331])\n",
    "\n",
    "def maplabeler (n):\n",
    "    folium.Marker(coordlister(n)).add_to(techmap)\n",
    "\n",
    "for i in range(30):\n",
    "    maplabeler(i)\n",
    "    \n",
    "techmap"
   ]
  },
  {
   "cell_type": "code",
   "execution_count": null,
   "metadata": {
    "scrolled": false
   },
   "outputs": [],
   "source": [
    "fig, ax = plt.subplots(figsize=(15,7))\n",
    "\n",
    "sns.scatterplot(x=kchousing['zipcode'], y=kchousing['price'],  )"
   ]
  },
  {
   "cell_type": "code",
   "execution_count": null,
   "metadata": {},
   "outputs": [],
   "source": [
    "# TODO add these OHE'd columns to \n",
    "zips = kchousing['zipcode'].to_numpy().reshape(-1, 1)\n",
    "ohe = OneHotEncoder(sparse=False, drop=[98052]) # the zip code with the highest prices in Seattle. could do 98052, near the Microsoft campus as well\n",
    "ohe.fit(zips)\n",
    "zips_encoded = ohe.transform(zips)\n",
    "\n",
    "zipcodes_ohe = pd.DataFrame(zips_encoded, columns=ohe.get_feature_names())"
   ]
  },
  {
   "cell_type": "code",
   "execution_count": null,
   "metadata": {},
   "outputs": [],
   "source": [
    "zipcodes_ohe.value_counts"
   ]
  }
 ],
 "metadata": {
  "kernelspec": {
   "display_name": "Python (learn-env)",
   "language": "python",
   "name": "learn-env"
  },
  "language_info": {
   "codemirror_mode": {
    "name": "ipython",
    "version": 3
   },
   "file_extension": ".py",
   "mimetype": "text/x-python",
   "name": "python",
   "nbconvert_exporter": "python",
   "pygments_lexer": "ipython3",
   "version": "3.8.5"
  }
 },
 "nbformat": 4,
 "nbformat_minor": 4
}
