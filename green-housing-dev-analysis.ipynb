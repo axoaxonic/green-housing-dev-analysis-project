{
 "cells": [
  {
   "cell_type": "markdown",
   "metadata": {},
   "source": [
    "![Our Stakeholder, Dwell Development](images/Dwell.png)"
   ]
  },
  {
   "cell_type": "markdown",
   "metadata": {},
   "source": [
    "# Green Housing Development Analysis\n",
    "\n",
    "&nbsp;\n",
    "\n",
    "**Authors:** Stefano Caruso, Holly Gultiano, Raul Torres\n",
    "***"
   ]
  },
  {
   "cell_type": "markdown",
   "metadata": {},
   "source": [
    "## Overview\n",
    "\n",
    "**Disclaimer: this notebook is for a Flatiron School data analysis project, for educational purposes only** \n",
    "\n",
    "For the past 17 years, [Dwell Development](https://www.dwelldevelopment.com/home/about/) has been building sustainable houses in the Seattle area. In this project, we use linear regression and other exploratory data analysis techniques to help them plan their next steps"
   ]
  },
  {
   "cell_type": "markdown",
   "metadata": {},
   "source": [
    "## Business Problem\n",
    "\n",
    "Seattle's population has been growing every year, largely fueled by the world-renown tech sector here, home of many top companies. \n",
    "As the population grows, the price of [rent seems to be growing with it](https://www.kiro7.com/news/local/report-seattle-rent-increased-nearly-19-year-over-year/LMUY74T3FRF5FNEWTG2KBKMJQ4/). Dwell Development wants to respond to this demand by creating new, affordable, multi-family housing for the growing population of tech workers in King County. \n",
    "\n",
    "The business problem breaks into three parts: which houses are available in the same zip codes as local tech companies, in order to minimize commute, which features correlate most with price, in order to minimize costs for both Dwell Development and the families on the housing market. With those two criteria met, we then are able to narrow down the selection of properties to find the available properties with the greatest acreage \n"
   ]
  },
  {
   "cell_type": "markdown",
   "metadata": {},
   "source": [
    "## Data Understanding\n",
    "\n",
    "Describe the data being used for this project.\n",
    "***\n",
    "Questions to consider:\n",
    "* Where did the data come from, and how do they relate to the data analysis questions?\n",
    "* What do the data represent? Who is in the sample and what variables are included?\n",
    "* What is the target variable?\n",
    "* What are the properties of the variables you intend to use?\n",
    "***"
   ]
  },
  {
   "cell_type": "code",
   "execution_count": null,
   "metadata": {},
   "outputs": [],
   "source": [
    "# importing packages used for our analysis\n",
    "import pandas as pd\n",
    "import numpy as np\n",
    "import statsmodels.api as sm\n",
    "import seaborn as sns\n",
    "import matplotlib.pyplot as plt \n",
    "import folium\n",
    "from sklearn.preprocessing import OneHotEncoder\n",
    "\n",
    "%matplotlib inline"
   ]
  },
  {
   "cell_type": "markdown",
   "metadata": {},
   "source": [
    "#### Source Dataset\n",
    "\n",
    "&nbsp;\n",
    "\n",
    "Our housing data csv is located in the [data](./data) folder on this repository\n",
    "It is a csv file of house data from the King County area of Washington State, and it includes columns for the following features (see [this file for more in-depth descriptions](.data/column_names.md):\n",
    "> * id, a unique identifier for each house\n",
    "> * date, when the house was sold \n",
    "> * price, sale price\n",
    "> * bedrooms, number of bedrooms\n",
    "> * bathrooms, numbedr of bathrooms\n",
    "> * sqft_living, area of living space for the house\n",
    "> * sqft_lot, total area of the lot itself\n",
    "> * floors, number of storeys for the house\n",
    "> * waterfront, whether or not it is on the water\n",
    "> * view, quality of view from the house\n",
    "> * condition, condition when sold\n",
    "> * grade, quality of house as built\n",
    "> * sqft_above, total area above ground level\n",
    "> * sqft_basement, total area below ground level\n",
    "> * yr_built, the year the house was built\n",
    "> * yr_renovated, the year the house was renovated, if applicable\n",
    "> * zipcode, the zip code for the location of the house\n",
    "> * lat, latitude for the location of the house\n",
    "> * long, longitude for the location of the house \n",
    "> * sqft_living15, average area for the living spaces for the 15 neighboring houses\n",
    "> * sqft_lot15, average area for the lots for the 15 neighboring houses\n",
    "\n",
    "For our analysis, we used the \"price\" variable as the main target for our analysis."
   ]
  },
  {
   "cell_type": "code",
   "execution_count": null,
   "metadata": {},
   "outputs": [],
   "source": [
    "<VAR> = pd.read_csv('/data/kc_house_data.csv') # TODO rename me"
   ]
  },
  {
   "cell_type": "markdown",
   "metadata": {},
   "source": [
    "#### Map of Tech Companies in the King County Area\n",
    "\n",
    "&nbsp;\n",
    "\n",
    "sourced from [this blog post](https://flatironschool.com/blog/best-tech-companies-seattle/) covering 30 companies with a lot of draw, including Google and Amazon, as well as some local start-ups"
   ]
  },
  {
   "cell_type": "code",
   "execution_count": null,
   "metadata": {
    "scrolled": true
   },
   "outputs": [],
   "source": [
    "techcompany_name = ['Microsoft', 'Google', 'Expedia', 'Getty', 'Outreach', 'Avalara', 'Amazon', 'Big Fish Games',\n",
    "                   'Tableau', 'Cray', 'Zulily', 'Redfin', 'Porch', 'SAP Concur', 'F5', 'Xealth', 'Pulumi', 'Apptentive',\n",
    "                   'Highspot', 'Impinj', 'Upbound', 'Skytap', 'Glowforge', 'Auction Edge', 'GeoEngineers', 'Twillio Zipwhip',\n",
    "                   'Whitepages', 'Amperity', 'SkyKick', 'PitchBook']\n",
    "\n",
    "techcompany_coord = {47.6395481:-122.1316979, 47.6491022:-122.3512428, 47.6278727:-122.3771439, 47.5968424:-122.3288311,\n",
    "                    47.6207149:-122.3623911, 47.5978827:-122.3309175, 47.6149968:-122.3382836, 47.6035842:-122.3375176,\n",
    "                    47.6478044:-122.3382225, 47.605816:-122.3319745, 47.6142513:-122.3522433, 47.616631:-122.332592,\n",
    "                    47.5835923:-122.3336612, 47.6161371:-122.1968104, 47.6051851:-122.331118, 47.6019789:-122.3317164,\n",
    "                    47.6107471:-122.3397581, 47.6110571:-122.3422495, 47.6114079:-122.3478381, 47.6227313:-122.33609, 47.5995348:-122.3313931,\n",
    "                    47.5980919:-122.3309701, 47.5838846:-122.3328815, 47.5990386:-122.3349373, 47.6141707:-122.3424675,\n",
    "                    47.6218759:-122.3615888, 47.614592:-122.3391944, 47.6046363:-122.3307528, 47.6210721:-122.3599327, 47.6056348:-122.3321834}\n",
    "\n",
    "tc_coord_list = list(techcompany_coord.items())\n",
    "\n",
    "def coordlister(index_num):\n",
    "    ''' quick function to get the individual coordinates of tech companies for Folium markers'''\n",
    "    return list(tc_coord_list[index_num])\n",
    "techmap = folium.Map(location=[47.605, -122.331])\n",
    "\n",
    "def maplabeler (n):\n",
    "    folium.Marker(coordlister(n)).add_to(techmap)\n",
    "\n",
    "for i in range(30):\n",
    "    maplabeler(i)\n",
    "    \n",
    "techmap"
   ]
  },
  {
   "cell_type": "code",
   "execution_count": null,
   "metadata": {},
   "outputs": [],
   "source": [
    "# TODO add some graphs here probably "
   ]
  },
  {
   "cell_type": "markdown",
   "metadata": {},
   "source": [
    "## Data Preparation\n",
    "\n",
    "Describe and justify the process for preparing the data for analysis.\n",
    "\n",
    "***\n",
    "Questions to consider:\n",
    "* Were there variables you dropped or created?\n",
    "* How did you address missing values or outliers?\n",
    "* Why are these choices appropriate given the data and the business problem?\n",
    "***"
   ]
  },
  {
   "cell_type": "code",
   "execution_count": null,
   "metadata": {},
   "outputs": [],
   "source": [
    "# Here you run your code to clean the data\n",
    "# TODO put the "
   ]
  },
  {
   "cell_type": "markdown",
   "metadata": {},
   "source": [
    "## Data Modeling\n",
    "\n",
    "&nbsp;\n",
    "\n",
    "To look for what features in our dataset correlate the most with house pricing in the zip codes associated with local tech companies, we ran a few simple (one variable) linear regression models using Ordinary Least Squares, in order to find the best-fit features, then we created a multiple linear regression model with house price as our target and all the best-fit feature variables as our source. \n",
    "\n",
    "***\n",
    "Questions to consider:\n",
    "* How did you analyze or model the data?\n",
    "* How did you iterate on your initial approach to make it better?\n",
    "* Why are these choices appropriate given the data and the business problem?\n",
    "***"
   ]
  },
  {
   "cell_type": "code",
   "execution_count": null,
   "metadata": {},
   "outputs": [],
   "source": [
    "# Here you run your code to model the data\n",
    "# TODO all simpleLR and one multipleLR models here\n"
   ]
  },
  {
   "cell_type": "markdown",
   "metadata": {},
   "source": [
    "## Evaluation\n",
    "Evaluate how well your work solves the stated business problem.\n",
    "\n",
    "***\n",
    "Questions to consider:\n",
    "* How do you interpret the results?\n",
    "* How well does your model fit your data? How much better is this than your baseline model?\n",
    "* How confident are you that your results would generalize beyond the data you have?\n",
    "* How confident are you that this model would benefit the business if put into use?\n",
    "***"
   ]
  },
  {
   "cell_type": "markdown",
   "metadata": {},
   "source": [
    "## Conclusions\n",
    "\n",
    "TODO fill in\n",
    "\n",
    "One limitation to our model was the fairly significant multicolinearity of some of our features. This was seemingly unavoidable due to the inherantly coupled nature of some aspects of houses, i.e., if more bedrooms are added, it is almost always true that more bathrooms would be too, or more floors and living space to accommodate them. We hope to find any possible workarounds to this limitation going forward.\n",
    "\n",
    "Another factor to consider was the age of the data available. The data available to us went up to the year 2015. House prices have fluctuated a lot in the past few years, especially due to the pandemic's effects on the economy. For future analysis, we would like to mine recent and relevant data and explore trends in pricing over time.\n",
    "\n",
    "***\n",
    "Questions to consider:\n",
    "* What would you recommend the business do as a result of this work?\n",
    "* What are some reasons why your analysis might not fully solve the business problem?\n",
    "* What else could you do in the future to improve this project?\n",
    "***"
   ]
  }
 ],
 "metadata": {
  "kernelspec": {
   "display_name": "Python 3",
   "language": "python",
   "name": "python3"
  },
  "language_info": {
   "codemirror_mode": {
    "name": "ipython",
    "version": 3
   },
   "file_extension": ".py",
   "mimetype": "text/x-python",
   "name": "python",
   "nbconvert_exporter": "python",
   "pygments_lexer": "ipython3",
   "version": "3.8.5"
  }
 },
 "nbformat": 4,
 "nbformat_minor": 4
}
